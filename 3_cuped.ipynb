{
 "cells": [
  {
   "cell_type": "markdown",
   "id": "e6334b5f",
   "metadata": {},
   "source": [
    "# CUPED"
   ]
  },
  {
   "cell_type": "markdown",
   "id": "3d13654e",
   "metadata": {},
   "source": [
    "У нас есть данные по транзакциям пользователей во время *теста и в предпериод*. Мы хотим просчитать результаты a/b-теста относительно продаж (gmv).  \n",
    "Сравним p-value в обычном t-тесте без применения CUPED и p-value c применением *CUPED*"
   ]
  },
  {
   "cell_type": "code",
   "execution_count": 1,
   "id": "72d3cc9f",
   "metadata": {},
   "outputs": [],
   "source": [
    "import numpy as np\n",
    "import pandas as pd\n",
    "import matplotlib.pyplot as plt\n",
    "import seaborn as sns \n",
    "import scipy.stats as sps"
   ]
  },
  {
   "cell_type": "code",
   "execution_count": null,
   "id": "528674c5",
   "metadata": {},
   "outputs": [],
   "source": []
  },
  {
   "cell_type": "markdown",
   "id": "f4e2fa3c",
   "metadata": {},
   "source": [
    "## Чтение и проверка данных"
   ]
  },
  {
   "cell_type": "code",
   "execution_count": 15,
   "id": "b63655f3",
   "metadata": {},
   "outputs": [
    {
     "data": {
      "text/html": [
       "<div>\n",
       "<style scoped>\n",
       "    .dataframe tbody tr th:only-of-type {\n",
       "        vertical-align: middle;\n",
       "    }\n",
       "\n",
       "    .dataframe tbody tr th {\n",
       "        vertical-align: top;\n",
       "    }\n",
       "\n",
       "    .dataframe thead th {\n",
       "        text-align: right;\n",
       "    }\n",
       "</style>\n",
       "<table border=\"1\" class=\"dataframe\">\n",
       "  <thead>\n",
       "    <tr style=\"text-align: right;\">\n",
       "      <th></th>\n",
       "      <th>gmv_hist</th>\n",
       "      <th>gmv_exp</th>\n",
       "      <th>group_name</th>\n",
       "    </tr>\n",
       "  </thead>\n",
       "  <tbody>\n",
       "    <tr>\n",
       "      <th>0</th>\n",
       "      <td>200.78</td>\n",
       "      <td>123.19</td>\n",
       "      <td>test</td>\n",
       "    </tr>\n",
       "    <tr>\n",
       "      <th>1</th>\n",
       "      <td>363.80</td>\n",
       "      <td>134.49</td>\n",
       "      <td>control</td>\n",
       "    </tr>\n",
       "    <tr>\n",
       "      <th>2</th>\n",
       "      <td>39.93</td>\n",
       "      <td>116.72</td>\n",
       "      <td>control</td>\n",
       "    </tr>\n",
       "    <tr>\n",
       "      <th>3</th>\n",
       "      <td>150.99</td>\n",
       "      <td>177.67</td>\n",
       "      <td>control</td>\n",
       "    </tr>\n",
       "    <tr>\n",
       "      <th>4</th>\n",
       "      <td>208.93</td>\n",
       "      <td>65.30</td>\n",
       "      <td>test</td>\n",
       "    </tr>\n",
       "  </tbody>\n",
       "</table>\n",
       "</div>"
      ],
      "text/plain": [
       "   gmv_hist  gmv_exp group_name\n",
       "0    200.78   123.19       test\n",
       "1    363.80   134.49    control\n",
       "2     39.93   116.72    control\n",
       "3    150.99   177.67    control\n",
       "4    208.93    65.30       test"
      ]
     },
     "execution_count": 15,
     "metadata": {},
     "output_type": "execute_result"
    }
   ],
   "source": [
    "df = pd.read_csv('./data_ignored/hist_exp_data.csv')\n",
    "df.head()"
   ]
  },
  {
   "cell_type": "code",
   "execution_count": 3,
   "id": "4cee7d56",
   "metadata": {},
   "outputs": [
    {
     "name": "stdout",
     "output_type": "stream",
     "text": [
      "<class 'pandas.core.frame.DataFrame'>\n",
      "RangeIndex: 250000 entries, 0 to 249999\n",
      "Data columns (total 3 columns):\n",
      " #   Column      Non-Null Count   Dtype  \n",
      "---  ------      --------------   -----  \n",
      " 0   gmv_hist    250000 non-null  float64\n",
      " 1   gmv_exp     250000 non-null  float64\n",
      " 2   group_name  250000 non-null  object \n",
      "dtypes: float64(2), object(1)\n",
      "memory usage: 5.7+ MB\n"
     ]
    }
   ],
   "source": [
    "df.info()"
   ]
  },
  {
   "cell_type": "markdown",
   "id": "39964da2",
   "metadata": {},
   "source": [
    "Есть данные по клиентам и на тесте, и на предпериоде *без пропусков*"
   ]
  },
  {
   "cell_type": "code",
   "execution_count": 4,
   "id": "37869858",
   "metadata": {},
   "outputs": [
    {
     "data": {
      "text/html": [
       "<div>\n",
       "<style scoped>\n",
       "    .dataframe tbody tr th:only-of-type {\n",
       "        vertical-align: middle;\n",
       "    }\n",
       "\n",
       "    .dataframe tbody tr th {\n",
       "        vertical-align: top;\n",
       "    }\n",
       "\n",
       "    .dataframe thead th {\n",
       "        text-align: right;\n",
       "    }\n",
       "</style>\n",
       "<table border=\"1\" class=\"dataframe\">\n",
       "  <thead>\n",
       "    <tr style=\"text-align: right;\">\n",
       "      <th></th>\n",
       "      <th>gmv_hist</th>\n",
       "      <th>gmv_exp</th>\n",
       "    </tr>\n",
       "  </thead>\n",
       "  <tbody>\n",
       "    <tr>\n",
       "      <th>count</th>\n",
       "      <td>250000.000000</td>\n",
       "      <td>250000.000000</td>\n",
       "    </tr>\n",
       "    <tr>\n",
       "      <th>mean</th>\n",
       "      <td>179.409521</td>\n",
       "      <td>149.096584</td>\n",
       "    </tr>\n",
       "    <tr>\n",
       "      <th>std</th>\n",
       "      <td>133.808405</td>\n",
       "      <td>111.837843</td>\n",
       "    </tr>\n",
       "    <tr>\n",
       "      <th>min</th>\n",
       "      <td>0.000000</td>\n",
       "      <td>0.000000</td>\n",
       "    </tr>\n",
       "    <tr>\n",
       "      <th>25%</th>\n",
       "      <td>72.707500</td>\n",
       "      <td>59.920000</td>\n",
       "    </tr>\n",
       "    <tr>\n",
       "      <th>50%</th>\n",
       "      <td>152.865000</td>\n",
       "      <td>126.430000</td>\n",
       "    </tr>\n",
       "    <tr>\n",
       "      <th>75%</th>\n",
       "      <td>259.210000</td>\n",
       "      <td>215.070000</td>\n",
       "    </tr>\n",
       "    <tr>\n",
       "      <th>max</th>\n",
       "      <td>946.870000</td>\n",
       "      <td>929.640000</td>\n",
       "    </tr>\n",
       "  </tbody>\n",
       "</table>\n",
       "</div>"
      ],
      "text/plain": [
       "            gmv_hist        gmv_exp\n",
       "count  250000.000000  250000.000000\n",
       "mean      179.409521     149.096584\n",
       "std       133.808405     111.837843\n",
       "min         0.000000       0.000000\n",
       "25%        72.707500      59.920000\n",
       "50%       152.865000     126.430000\n",
       "75%       259.210000     215.070000\n",
       "max       946.870000     929.640000"
      ]
     },
     "execution_count": 4,
     "metadata": {},
     "output_type": "execute_result"
    }
   ],
   "source": [
    "df.describe()"
   ]
  },
  {
   "cell_type": "markdown",
   "id": "c4e6e7f1",
   "metadata": {},
   "source": [
    "Но есть нулевые значения. Посмотрим их"
   ]
  },
  {
   "cell_type": "code",
   "execution_count": 5,
   "id": "b7bce4db",
   "metadata": {},
   "outputs": [
    {
     "data": {
      "text/plain": [
       "gmv_hist      2\n",
       "gmv_exp       2\n",
       "group_name    2\n",
       "dtype: int64"
      ]
     },
     "execution_count": 5,
     "metadata": {},
     "output_type": "execute_result"
    }
   ],
   "source": [
    "df[df.gmv_hist == 0].count()"
   ]
  },
  {
   "cell_type": "code",
   "execution_count": 6,
   "id": "651cab02",
   "metadata": {},
   "outputs": [
    {
     "data": {
      "text/plain": [
       "gmv_hist      1\n",
       "gmv_exp       1\n",
       "group_name    1\n",
       "dtype: int64"
      ]
     },
     "execution_count": 6,
     "metadata": {},
     "output_type": "execute_result"
    }
   ],
   "source": [
    "df[df.gmv_exp == 0].count()"
   ]
  },
  {
   "cell_type": "markdown",
   "id": "fa3d8f64",
   "metadata": {},
   "source": [
    "Мало клиентов, которые не совершали бы покупок в одном из периодов. Проигнорируем это"
   ]
  },
  {
   "cell_type": "code",
   "execution_count": 7,
   "id": "d5ab2b38",
   "metadata": {},
   "outputs": [
    {
     "data": {
      "text/plain": [
       "array(['test', 'control'], dtype=object)"
      ]
     },
     "execution_count": 7,
     "metadata": {},
     "output_type": "execute_result"
    }
   ],
   "source": [
    "df.group_name.unique()"
   ]
  },
  {
   "cell_type": "code",
   "execution_count": null,
   "id": "5a2150e7",
   "metadata": {},
   "outputs": [],
   "source": []
  },
  {
   "cell_type": "markdown",
   "id": "52bf302c",
   "metadata": {},
   "source": [
    "## Расчитаем cuped-метрику"
   ]
  },
  {
   "cell_type": "code",
   "execution_count": 8,
   "id": "2fc9aabf",
   "metadata": {},
   "outputs": [],
   "source": [
    "Y = df.gmv_exp\n",
    "X_pre = df.gmv_hist\n",
    "theta = np.cov(Y, X_pre)[0, 1] / np.var(X_pre)\n",
    "Y_cuped = Y - theta * X_pre\n",
    "\n",
    "df['gmv_exp_cuped'] = Y_cuped"
   ]
  },
  {
   "cell_type": "code",
   "execution_count": 9,
   "id": "8f7ab9fc",
   "metadata": {},
   "outputs": [
    {
     "data": {
      "text/html": [
       "<div>\n",
       "<style scoped>\n",
       "    .dataframe tbody tr th:only-of-type {\n",
       "        vertical-align: middle;\n",
       "    }\n",
       "\n",
       "    .dataframe tbody tr th {\n",
       "        vertical-align: top;\n",
       "    }\n",
       "\n",
       "    .dataframe thead th {\n",
       "        text-align: right;\n",
       "    }\n",
       "</style>\n",
       "<table border=\"1\" class=\"dataframe\">\n",
       "  <thead>\n",
       "    <tr style=\"text-align: right;\">\n",
       "      <th></th>\n",
       "      <th>gmv_hist</th>\n",
       "      <th>gmv_exp</th>\n",
       "      <th>group_name</th>\n",
       "      <th>gmv_exp_cuped</th>\n",
       "    </tr>\n",
       "  </thead>\n",
       "  <tbody>\n",
       "    <tr>\n",
       "      <th>0</th>\n",
       "      <td>200.78</td>\n",
       "      <td>123.19</td>\n",
       "      <td>test</td>\n",
       "      <td>11.176763</td>\n",
       "    </tr>\n",
       "    <tr>\n",
       "      <th>1</th>\n",
       "      <td>363.80</td>\n",
       "      <td>134.49</td>\n",
       "      <td>control</td>\n",
       "      <td>-68.470531</td>\n",
       "    </tr>\n",
       "    <tr>\n",
       "      <th>2</th>\n",
       "      <td>39.93</td>\n",
       "      <td>116.72</td>\n",
       "      <td>control</td>\n",
       "      <td>94.443436</td>\n",
       "    </tr>\n",
       "    <tr>\n",
       "      <th>3</th>\n",
       "      <td>150.99</td>\n",
       "      <td>177.67</td>\n",
       "      <td>control</td>\n",
       "      <td>93.434127</td>\n",
       "    </tr>\n",
       "    <tr>\n",
       "      <th>4</th>\n",
       "      <td>208.93</td>\n",
       "      <td>65.30</td>\n",
       "      <td>test</td>\n",
       "      <td>-51.260043</td>\n",
       "    </tr>\n",
       "  </tbody>\n",
       "</table>\n",
       "</div>"
      ],
      "text/plain": [
       "   gmv_hist  gmv_exp group_name  gmv_exp_cuped\n",
       "0    200.78   123.19       test      11.176763\n",
       "1    363.80   134.49    control     -68.470531\n",
       "2     39.93   116.72    control      94.443436\n",
       "3    150.99   177.67    control      93.434127\n",
       "4    208.93    65.30       test     -51.260043"
      ]
     },
     "execution_count": 9,
     "metadata": {},
     "output_type": "execute_result"
    }
   ],
   "source": [
    "df.head()"
   ]
  },
  {
   "cell_type": "code",
   "execution_count": null,
   "id": "ace95bde",
   "metadata": {},
   "outputs": [],
   "source": []
  },
  {
   "cell_type": "markdown",
   "id": "58002ca0",
   "metadata": {},
   "source": [
    "## t-тест"
   ]
  },
  {
   "cell_type": "markdown",
   "id": "3acbbada",
   "metadata": {},
   "source": [
    "*Разделим* участников на тест и контроль:"
   ]
  },
  {
   "cell_type": "code",
   "execution_count": 10,
   "id": "72bcac06",
   "metadata": {},
   "outputs": [],
   "source": [
    "df_test = df[df.group_name == 'test']\n",
    "df_control = df[df.group_name == 'control']"
   ]
  },
  {
   "cell_type": "code",
   "execution_count": 11,
   "id": "fa77b12f",
   "metadata": {},
   "outputs": [
    {
     "data": {
      "text/plain": [
       "True"
      ]
     },
     "execution_count": 11,
     "metadata": {},
     "output_type": "execute_result"
    }
   ],
   "source": [
    "df.shape[0] == df_test.shape[0] + df_control.shape[0]"
   ]
  },
  {
   "cell_type": "code",
   "execution_count": null,
   "id": "127d77cd",
   "metadata": {},
   "outputs": [],
   "source": []
  },
  {
   "cell_type": "markdown",
   "id": "4e9bd4ff",
   "metadata": {},
   "source": [
    "*Посчитаем t-тест* на исходных данных и на cuped-метрике:"
   ]
  },
  {
   "cell_type": "code",
   "execution_count": 12,
   "id": "f3666b07",
   "metadata": {},
   "outputs": [],
   "source": [
    "test = df_test.gmv_exp\n",
    "control = df_control.gmv_exp\n",
    "test_cuped = df_test.gmv_exp_cuped\n",
    "control_cuped = df_control.gmv_exp_cuped"
   ]
  },
  {
   "cell_type": "code",
   "execution_count": 14,
   "id": "5cc7534b",
   "metadata": {},
   "outputs": [
    {
     "name": "stdout",
     "output_type": "stream",
     "text": [
      "p-value по результатам t-тестов: \n",
      "на исходной метрике - 0.23267087319649138, \n",
      "на cuped-метрике    - 0.04671025976667769\n"
     ]
    }
   ],
   "source": [
    "_, pvalue_tt = sps.ttest_ind(test, control)  # t-тест с исходной метрикой\n",
    "_, pvalue_cuped = sps.ttest_ind(test_cuped, control_cuped, equal_var=False)  # t-тест с cuped метрикой\n",
    "print(f'p-value по результатам t-тестов: \\nна исходной метрике - {pvalue_tt}, \\nна cuped-метрике    - {pvalue_cuped}')"
   ]
  },
  {
   "cell_type": "markdown",
   "id": "99bf69f6",
   "metadata": {},
   "source": [
    "Использование CUPED, *уменьшая дисперсию* метрики, позволяет увидеть меньшие эффекты."
   ]
  },
  {
   "cell_type": "code",
   "execution_count": null,
   "id": "96b3a88b",
   "metadata": {},
   "outputs": [],
   "source": []
  }
 ],
 "metadata": {
  "kernelspec": {
   "display_name": "base",
   "language": "python",
   "name": "python3"
  },
  "language_info": {
   "codemirror_mode": {
    "name": "ipython",
    "version": 3
   },
   "file_extension": ".py",
   "mimetype": "text/x-python",
   "name": "python",
   "nbconvert_exporter": "python",
   "pygments_lexer": "ipython3",
   "version": "3.12.7"
  }
 },
 "nbformat": 4,
 "nbformat_minor": 5
}
