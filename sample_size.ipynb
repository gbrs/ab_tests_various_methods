{
 "cells": [
  {
   "cell_type": "markdown",
   "id": "85af3c06",
   "metadata": {},
   "source": [
    "# Расчет минимального размера выборок для A/B-теста"
   ]
  },
  {
   "cell_type": "markdown",
   "id": "75264862",
   "metadata": {},
   "source": [
    "У нас есть данные по транзакциям пользователей. Мы хотим провести a/b-тест относительно продаж (gmv). Тест двусторонний. Какое минимальное число пользователей необходимо взять в эксперимент, если мы хотим иметь:\n",
    "- уровень значимости не более 5%;\n",
    "- мощность не менее 80%;\n",
    "- минимальный эффекс, который мы хотим зарегистрировать - 1%?\n",
    "\n",
    "Хотим разбиение теста и контроля - 1:3.  \n",
    "Будем предполагать, что дисперсии в обеих группах одинаковые."
   ]
  },
  {
   "cell_type": "code",
   "execution_count": 1,
   "id": "d34f61f7",
   "metadata": {},
   "outputs": [],
   "source": [
    "import numpy as np\n",
    "import pandas as pd\n",
    "import matplotlib.pyplot as plt\n",
    "import seaborn as sns \n",
    "import scipy.stats as sps\n",
    "from math import ceil"
   ]
  },
  {
   "cell_type": "code",
   "execution_count": null,
   "id": "72759bd2",
   "metadata": {},
   "outputs": [],
   "source": []
  },
  {
   "cell_type": "markdown",
   "id": "32a6a0ad",
   "metadata": {},
   "source": [
    "## Чтение и проверка данных"
   ]
  },
  {
   "cell_type": "code",
   "execution_count": 2,
   "id": "d238f48a",
   "metadata": {},
   "outputs": [
    {
     "data": {
      "text/html": [
       "<div>\n",
       "<style scoped>\n",
       "    .dataframe tbody tr th:only-of-type {\n",
       "        vertical-align: middle;\n",
       "    }\n",
       "\n",
       "    .dataframe tbody tr th {\n",
       "        vertical-align: top;\n",
       "    }\n",
       "\n",
       "    .dataframe thead th {\n",
       "        text-align: right;\n",
       "    }\n",
       "</style>\n",
       "<table border=\"1\" class=\"dataframe\">\n",
       "  <thead>\n",
       "    <tr style=\"text-align: right;\">\n",
       "      <th></th>\n",
       "      <th>user_id</th>\n",
       "      <th>gmv</th>\n",
       "    </tr>\n",
       "  </thead>\n",
       "  <tbody>\n",
       "    <tr>\n",
       "      <th>0</th>\n",
       "      <td>guo0pdwqvg</td>\n",
       "      <td>506</td>\n",
       "    </tr>\n",
       "    <tr>\n",
       "      <th>1</th>\n",
       "      <td>guo0pdwqvg</td>\n",
       "      <td>760</td>\n",
       "    </tr>\n",
       "    <tr>\n",
       "      <th>2</th>\n",
       "      <td>guo0pdwqvg</td>\n",
       "      <td>633</td>\n",
       "    </tr>\n",
       "    <tr>\n",
       "      <th>3</th>\n",
       "      <td>guo0pdwqvg</td>\n",
       "      <td>506</td>\n",
       "    </tr>\n",
       "    <tr>\n",
       "      <th>4</th>\n",
       "      <td>guo0pdwqvg</td>\n",
       "      <td>760</td>\n",
       "    </tr>\n",
       "  </tbody>\n",
       "</table>\n",
       "</div>"
      ],
      "text/plain": [
       "      user_id  gmv\n",
       "0  guo0pdwqvg  506\n",
       "1  guo0pdwqvg  760\n",
       "2  guo0pdwqvg  633\n",
       "3  guo0pdwqvg  506\n",
       "4  guo0pdwqvg  760"
      ]
     },
     "execution_count": 2,
     "metadata": {},
     "output_type": "execute_result"
    }
   ],
   "source": [
    "df = pd.read_csv('./data_ignored/synthetic_gmv_data_1.1.csv')\n",
    "df.head()"
   ]
  },
  {
   "cell_type": "code",
   "execution_count": 3,
   "id": "518f114e",
   "metadata": {},
   "outputs": [
    {
     "data": {
      "text/plain": [
       "user_id    0\n",
       "gmv        0\n",
       "dtype: int64"
      ]
     },
     "execution_count": 3,
     "metadata": {},
     "output_type": "execute_result"
    }
   ],
   "source": [
    "df.isna().sum()"
   ]
  },
  {
   "cell_type": "code",
   "execution_count": 4,
   "id": "013c82d3",
   "metadata": {},
   "outputs": [
    {
     "data": {
      "image/png": "[encoded data removed]",
      "text/plain": [
       "<Figure size 640x480 with 1 Axes>"
      ]
     },
     "metadata": {},
     "output_type": "display_data"
    }
   ],
   "source": [
    "sns.histplot(df.gmv);"
   ]
  },
  {
   "cell_type": "markdown",
   "id": "c0072d8a",
   "metadata": {},
   "source": [
    "Пропуски в наших данных вычищены, а выбросов не видно."
   ]
  },
  {
   "cell_type": "code",
   "execution_count": null,
   "id": "edbc3cfe",
   "metadata": {},
   "outputs": [],
   "source": []
  },
  {
   "cell_type": "markdown",
   "id": "d2fae1b6",
   "metadata": {},
   "source": [
    "## Расчет размера выборок"
   ]
  },
  {
   "cell_type": "markdown",
   "id": "0ce01f1e",
   "metadata": {},
   "source": [
    "Посчитаем \"поюзерные\" продажи на основе имеющихся данных, а затем вычислим их среднюю и дисперсию:"
   ]
  },
  {
   "cell_type": "code",
   "execution_count": 5,
   "id": "d7da3912",
   "metadata": {},
   "outputs": [
    {
     "data": {
      "text/plain": [
       "(gmv    2750.846709\n",
       " dtype: float64,\n",
       " gmv    3.646228e+06\n",
       " dtype: float64)"
      ]
     },
     "execution_count": 5,
     "metadata": {},
     "output_type": "execute_result"
    }
   ],
   "source": [
    "mean_metric = df.groupby('user_id').sum().mean()\n",
    "var_metric = df.groupby('user_id').sum().var()\n",
    "mean_metric, var_metric"
   ]
  },
  {
   "cell_type": "markdown",
   "id": "2e4f1098",
   "metadata": {},
   "source": [
    "Воспользуемся формулами для расчета размера выборки:\n",
    "$$m > \\dfrac{(z_{1-\\alpha/2} + z_{1-\\beta})^2 (1 + k)\\sigma^2}{e^2}$$\n",
    "\n",
    "$$n > \\dfrac{(z_{1-\\alpha/2} + z_{1-\\beta})^2 (1 + k)\\sigma^2}{ke^2}$$\n",
    ", где n -  количество пользователей в тестовой выборке, m - в контрольной, а k = m / n"
   ]
  },
  {
   "cell_type": "code",
   "execution_count": 6,
   "id": "eb9b464e",
   "metadata": {},
   "outputs": [],
   "source": [
    "def control_group_size(var_df, effect, k = 1, alpha = 0.05, beta = 0.2):\n",
    "    \"\"\"вычисляет минимальный объем контрольной группы\"\"\"\n",
    "    dist = sps.norm(loc=0, scale=1)  # стандартное z-распределение\n",
    "    return ((dist.ppf(1 - alpha/2) + dist.ppf(1- beta))**2) * (1 + k) * var_df / effect**2"
   ]
  },
  {
   "cell_type": "code",
   "execution_count": null,
   "id": "480c1e28",
   "metadata": {},
   "outputs": [
    {
     "name": "stdout",
     "output_type": "stream",
     "text": [
      "В тестовой группе должно быть 5603 пользователей, \n",
      "В контрольной группе должно быть 16809 пользователей, \n",
      "Всего - 22412 пользователей\n"
     ]
    }
   ],
   "source": [
    "effect = mean_metric * 0.03  # mde в 3% мы хотим увидеть\n",
    "k = 3  # отношение объема контрольной группы к тестовой\n",
    "m = control_group_size(var_metric, effect, k = k)  # объем контрольной группы\n",
    "n = m / k  # объем тестовой группы\n",
    "print(\n",
    "        f'В тестовой группе должно быть {ceil(n.iloc[0])} пользователей, \\n'\\\n",
    "        f'В контрольной группе должно быть {ceil(m.iloc[0])} пользователей, \\n'\\\n",
    "        f'Всего - {ceil(n.iloc[0]) + ceil(m.iloc[0])} пользователей'\n",
    ")"
   ]
  },
  {
   "cell_type": "code",
   "execution_count": null,
   "id": "b93b1549",
   "metadata": {},
   "outputs": [],
   "source": []
  },
  {
   "cell_type": "code",
   "execution_count": null,
   "id": "b424e0e8",
   "metadata": {},
   "outputs": [],
   "source": []
  },
  {
   "cell_type": "code",
   "execution_count": null,
   "id": "f8a8756d",
   "metadata": {},
   "outputs": [],
   "source": []
  }
 ],
 "metadata": {
  "kernelspec": {
   "display_name": "base",
   "language": "python",
   "name": "python3"
  },
  "language_info": {
   "codemirror_mode": {
    "name": "ipython",
    "version": 3
   },
   "file_extension": ".py",
   "mimetype": "text/x-python",
   "name": "python",
   "nbconvert_exporter": "python",
   "pygments_lexer": "ipython3",
   "version": "3.12.7"
  }
 },
 "nbformat": 4,
 "nbformat_minor": 5
}
