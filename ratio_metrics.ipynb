{
 "cells": [
  {
   "cell_type": "markdown",
   "id": "85af3c06",
   "metadata": {},
   "source": [
    "# A/B-тест на изменение среднего чека"
   ]
  },
  {
   "cell_type": "markdown",
   "id": "75264862",
   "metadata": {},
   "source": [
    "У нас есть данные по транзакциям пользователей в тестовый период.  \n",
    "Посмотрим воздействие эксперимента на средний чек.  \n",
    "H0: средний чек в тестовой и конрольной группах не отличается.  \n",
    "Уровень значимости примем 0.05.\n",
    "\n",
    "Поскольку мы имеем дело с метрикой отношений (числитель и знаменатель не являются независимыми), то нельзя использовать базовый способ расчета дисперсии.  \n",
    "Рассмотрим работу с дельта-методом и линеаризацией."
   ]
  },
  {
   "cell_type": "code",
   "execution_count": null,
   "id": "72759bd2",
   "metadata": {},
   "outputs": [],
   "source": []
  },
  {
   "cell_type": "markdown",
   "id": "32a6a0ad",
   "metadata": {},
   "source": [
    "## Чтение и проверка данных"
   ]
  },
  {
   "cell_type": "code",
   "execution_count": 5,
   "id": "3c341851",
   "metadata": {},
   "outputs": [],
   "source": [
    "import numpy as np\n",
    "import pandas as pd\n",
    "import matplotlib.pyplot as plt\n",
    "import seaborn as sns \n",
    "import scipy.stats as sps"
   ]
  },
  {
   "cell_type": "code",
   "execution_count": 6,
   "id": "86efec3a",
   "metadata": {},
   "outputs": [
    {
     "data": {
      "text/html": [
       "<div>\n",
       "<style scoped>\n",
       "    .dataframe tbody tr th:only-of-type {\n",
       "        vertical-align: middle;\n",
       "    }\n",
       "\n",
       "    .dataframe tbody tr th {\n",
       "        vertical-align: top;\n",
       "    }\n",
       "\n",
       "    .dataframe thead th {\n",
       "        text-align: right;\n",
       "    }\n",
       "</style>\n",
       "<table border=\"1\" class=\"dataframe\">\n",
       "  <thead>\n",
       "    <tr style=\"text-align: right;\">\n",
       "      <th></th>\n",
       "      <th>user_id</th>\n",
       "      <th>gmv</th>\n",
       "      <th>group_name</th>\n",
       "    </tr>\n",
       "  </thead>\n",
       "  <tbody>\n",
       "    <tr>\n",
       "      <th>0</th>\n",
       "      <td>myo4ixol31</td>\n",
       "      <td>1428</td>\n",
       "      <td>test</td>\n",
       "    </tr>\n",
       "    <tr>\n",
       "      <th>1</th>\n",
       "      <td>myo4ixol31</td>\n",
       "      <td>1428</td>\n",
       "      <td>test</td>\n",
       "    </tr>\n",
       "    <tr>\n",
       "      <th>2</th>\n",
       "      <td>myo4ixol31</td>\n",
       "      <td>1071</td>\n",
       "      <td>test</td>\n",
       "    </tr>\n",
       "    <tr>\n",
       "      <th>3</th>\n",
       "      <td>myo4ixol31</td>\n",
       "      <td>1071</td>\n",
       "      <td>test</td>\n",
       "    </tr>\n",
       "    <tr>\n",
       "      <th>4</th>\n",
       "      <td>pkzf2889ww</td>\n",
       "      <td>351</td>\n",
       "      <td>test</td>\n",
       "    </tr>\n",
       "  </tbody>\n",
       "</table>\n",
       "</div>"
      ],
      "text/plain": [
       "      user_id   gmv group_name\n",
       "0  myo4ixol31  1428       test\n",
       "1  myo4ixol31  1428       test\n",
       "2  myo4ixol31  1071       test\n",
       "3  myo4ixol31  1071       test\n",
       "4  pkzf2889ww   351       test"
      ]
     },
     "execution_count": 6,
     "metadata": {},
     "output_type": "execute_result"
    }
   ],
   "source": [
    "df = pd.read_csv('./data_ignored/synthetic_gmv_data_1.2.csv')\n",
    "df.head()"
   ]
  },
  {
   "cell_type": "code",
   "execution_count": 7,
   "id": "a59dfdcd",
   "metadata": {},
   "outputs": [
    {
     "name": "stdout",
     "output_type": "stream",
     "text": [
      "<class 'pandas.core.frame.DataFrame'>\n",
      "RangeIndex: 799061 entries, 0 to 799060\n",
      "Data columns (total 3 columns):\n",
      " #   Column      Non-Null Count   Dtype \n",
      "---  ------      --------------   ----- \n",
      " 0   user_id     799061 non-null  object\n",
      " 1   gmv         799061 non-null  int64 \n",
      " 2   group_name  799061 non-null  object\n",
      "dtypes: int64(1), object(2)\n",
      "memory usage: 18.3+ MB\n"
     ]
    }
   ],
   "source": [
    "df.info()"
   ]
  },
  {
   "cell_type": "markdown",
   "id": "d0657f64",
   "metadata": {},
   "source": [
    "Пропусков в данных нет."
   ]
  },
  {
   "cell_type": "code",
   "execution_count": null,
   "id": "edccdebb",
   "metadata": {},
   "outputs": [],
   "source": []
  },
  {
   "cell_type": "markdown",
   "id": "1c7da92c",
   "metadata": {},
   "source": [
    "## Преобразование данных"
   ]
  },
  {
   "cell_type": "markdown",
   "id": "dc652f38",
   "metadata": {},
   "source": [
    "Посчитаем суммы покупок и их количество для каждого покупателя:"
   ]
  },
  {
   "cell_type": "code",
   "execution_count": 8,
   "id": "0bdde527",
   "metadata": {},
   "outputs": [],
   "source": [
    "df_agg = df.groupby(['user_id', 'group_name']).agg(['sum', 'count'])"
   ]
  },
  {
   "cell_type": "code",
   "execution_count": 9,
   "id": "962c31dc",
   "metadata": {},
   "outputs": [
    {
     "data": {
      "text/html": [
       "<div>\n",
       "<style scoped>\n",
       "    .dataframe tbody tr th:only-of-type {\n",
       "        vertical-align: middle;\n",
       "    }\n",
       "\n",
       "    .dataframe tbody tr th {\n",
       "        vertical-align: top;\n",
       "    }\n",
       "\n",
       "    .dataframe thead tr th {\n",
       "        text-align: left;\n",
       "    }\n",
       "\n",
       "    .dataframe thead tr:last-of-type th {\n",
       "        text-align: right;\n",
       "    }\n",
       "</style>\n",
       "<table border=\"1\" class=\"dataframe\">\n",
       "  <thead>\n",
       "    <tr>\n",
       "      <th></th>\n",
       "      <th></th>\n",
       "      <th colspan=\"2\" halign=\"left\">gmv</th>\n",
       "    </tr>\n",
       "    <tr>\n",
       "      <th></th>\n",
       "      <th></th>\n",
       "      <th>sum</th>\n",
       "      <th>count</th>\n",
       "    </tr>\n",
       "    <tr>\n",
       "      <th>user_id</th>\n",
       "      <th>group_name</th>\n",
       "      <th></th>\n",
       "      <th></th>\n",
       "    </tr>\n",
       "  </thead>\n",
       "  <tbody>\n",
       "    <tr>\n",
       "      <th>00062h7u56</th>\n",
       "      <th>control</th>\n",
       "      <td>733</td>\n",
       "      <td>1</td>\n",
       "    </tr>\n",
       "    <tr>\n",
       "      <th>00074uxybk</th>\n",
       "      <th>test</th>\n",
       "      <td>3187</td>\n",
       "      <td>3</td>\n",
       "    </tr>\n",
       "    <tr>\n",
       "      <th>000ic5j18m</th>\n",
       "      <th>control</th>\n",
       "      <td>2933</td>\n",
       "      <td>6</td>\n",
       "    </tr>\n",
       "    <tr>\n",
       "      <th>000plmykri</th>\n",
       "      <th>test</th>\n",
       "      <td>1695</td>\n",
       "      <td>5</td>\n",
       "    </tr>\n",
       "    <tr>\n",
       "      <th>00174ganru</th>\n",
       "      <th>control</th>\n",
       "      <td>1496</td>\n",
       "      <td>4</td>\n",
       "    </tr>\n",
       "  </tbody>\n",
       "</table>\n",
       "</div>"
      ],
      "text/plain": [
       "                        gmv      \n",
       "                        sum count\n",
       "user_id    group_name            \n",
       "00062h7u56 control      733     1\n",
       "00074uxybk test        3187     3\n",
       "000ic5j18m control     2933     6\n",
       "000plmykri test        1695     5\n",
       "00174ganru control     1496     4"
      ]
     },
     "execution_count": 9,
     "metadata": {},
     "output_type": "execute_result"
    }
   ],
   "source": [
    "df_agg.head()"
   ]
  },
  {
   "cell_type": "code",
   "execution_count": 10,
   "id": "f01ce362",
   "metadata": {},
   "outputs": [],
   "source": [
    "df_agg = df_agg.reset_index()"
   ]
  },
  {
   "cell_type": "code",
   "execution_count": 11,
   "id": "6a6fab13",
   "metadata": {},
   "outputs": [
    {
     "data": {
      "text/html": [
       "<div>\n",
       "<style scoped>\n",
       "    .dataframe tbody tr th:only-of-type {\n",
       "        vertical-align: middle;\n",
       "    }\n",
       "\n",
       "    .dataframe tbody tr th {\n",
       "        vertical-align: top;\n",
       "    }\n",
       "\n",
       "    .dataframe thead tr th {\n",
       "        text-align: left;\n",
       "    }\n",
       "</style>\n",
       "<table border=\"1\" class=\"dataframe\">\n",
       "  <thead>\n",
       "    <tr>\n",
       "      <th></th>\n",
       "      <th>user_id</th>\n",
       "      <th>group_name</th>\n",
       "      <th colspan=\"2\" halign=\"left\">gmv</th>\n",
       "    </tr>\n",
       "    <tr>\n",
       "      <th></th>\n",
       "      <th></th>\n",
       "      <th></th>\n",
       "      <th>sum</th>\n",
       "      <th>count</th>\n",
       "    </tr>\n",
       "  </thead>\n",
       "  <tbody>\n",
       "    <tr>\n",
       "      <th>0</th>\n",
       "      <td>00062h7u56</td>\n",
       "      <td>control</td>\n",
       "      <td>733</td>\n",
       "      <td>1</td>\n",
       "    </tr>\n",
       "    <tr>\n",
       "      <th>1</th>\n",
       "      <td>00074uxybk</td>\n",
       "      <td>test</td>\n",
       "      <td>3187</td>\n",
       "      <td>3</td>\n",
       "    </tr>\n",
       "    <tr>\n",
       "      <th>2</th>\n",
       "      <td>000ic5j18m</td>\n",
       "      <td>control</td>\n",
       "      <td>2933</td>\n",
       "      <td>6</td>\n",
       "    </tr>\n",
       "    <tr>\n",
       "      <th>3</th>\n",
       "      <td>000plmykri</td>\n",
       "      <td>test</td>\n",
       "      <td>1695</td>\n",
       "      <td>5</td>\n",
       "    </tr>\n",
       "    <tr>\n",
       "      <th>4</th>\n",
       "      <td>00174ganru</td>\n",
       "      <td>control</td>\n",
       "      <td>1496</td>\n",
       "      <td>4</td>\n",
       "    </tr>\n",
       "  </tbody>\n",
       "</table>\n",
       "</div>"
      ],
      "text/plain": [
       "      user_id group_name   gmv      \n",
       "                           sum count\n",
       "0  00062h7u56    control   733     1\n",
       "1  00074uxybk       test  3187     3\n",
       "2  000ic5j18m    control  2933     6\n",
       "3  000plmykri       test  1695     5\n",
       "4  00174ganru    control  1496     4"
      ]
     },
     "execution_count": 11,
     "metadata": {},
     "output_type": "execute_result"
    }
   ],
   "source": [
    "df_agg.head()"
   ]
  },
  {
   "cell_type": "code",
   "execution_count": null,
   "id": "034cf0eb",
   "metadata": {},
   "outputs": [],
   "source": []
  },
  {
   "cell_type": "markdown",
   "id": "459efd4a",
   "metadata": {},
   "source": [
    "Разделим участников на тест и контроль:"
   ]
  },
  {
   "cell_type": "code",
   "execution_count": 12,
   "id": "e149cb14",
   "metadata": {},
   "outputs": [],
   "source": [
    "df_test = df_agg[df_agg.group_name == 'test']\n",
    "df_control = df_agg[df_agg.group_name == 'control']"
   ]
  },
  {
   "cell_type": "code",
   "execution_count": 13,
   "id": "b8042617",
   "metadata": {},
   "outputs": [
    {
     "data": {
      "text/plain": [
       "True"
      ]
     },
     "execution_count": 13,
     "metadata": {},
     "output_type": "execute_result"
    }
   ],
   "source": [
    "df_agg.shape[0] == df_test.shape[0] + df_control.shape[0]"
   ]
  },
  {
   "cell_type": "code",
   "execution_count": 14,
   "id": "d4a55931",
   "metadata": {},
   "outputs": [
    {
     "name": "stdout",
     "output_type": "stream",
     "text": [
      "Количество пользователей в контроле - 147291 \n",
      "Количество пользователей в тесте    -  49100\n",
      "Соотношение контроля и теста - 2.999816700610998\n"
     ]
    }
   ],
   "source": [
    "print(\n",
    "        f'Количество пользователей в контроле - {df_control.shape[0]} \\n'\n",
    "        f'Количество пользователей в тесте    -  {df_test.shape[0]}\\n'\n",
    "        f'Соотношение контроля и теста - {df_control.shape[0] / df_test.shape[0]}'\n",
    ")"
   ]
  },
  {
   "cell_type": "markdown",
   "id": "9248b3cc",
   "metadata": {},
   "source": [
    "У нас нет пользователей, находящихся одновременно и в тесте, и в контроле:"
   ]
  },
  {
   "cell_type": "code",
   "execution_count": 15,
   "id": "62e49a6b",
   "metadata": {},
   "outputs": [
    {
     "data": {
      "text/plain": [
       "set()"
      ]
     },
     "execution_count": 15,
     "metadata": {},
     "output_type": "execute_result"
    }
   ],
   "source": [
    "set(df_test.user_id) & set(df_control.user_id)"
   ]
  },
  {
   "cell_type": "code",
   "execution_count": null,
   "id": "d96765bd",
   "metadata": {},
   "outputs": [],
   "source": []
  },
  {
   "cell_type": "markdown",
   "id": "5949a52e",
   "metadata": {},
   "source": [
    "Подготовим вектора чисел в числителе (num) и знаменателе (denom) для теста (x) и контроля (y):"
   ]
  },
  {
   "cell_type": "code",
   "execution_count": 16,
   "id": "b97ab952",
   "metadata": {},
   "outputs": [],
   "source": [
    "x_num = df_test['gmv']['sum']  # числитель теста\n",
    "x_denom = df_test['gmv']['count']\n",
    "y_num = df_control['gmv']['sum']\n",
    "y_denom = df_control['gmv']['count']\n",
    "# количество участников в тесте и контроле\n",
    "n = x_num.shape[0]\n",
    "m = y_num.shape[0]"
   ]
  },
  {
   "cell_type": "code",
   "execution_count": null,
   "id": "62bd833b",
   "metadata": {},
   "outputs": [],
   "source": []
  },
  {
   "cell_type": "markdown",
   "id": "6a63969b",
   "metadata": {},
   "source": [
    "## Дельта-метод"
   ]
  },
  {
   "cell_type": "markdown",
   "id": "f25431d9",
   "metadata": {},
   "source": [
    "Формула дисперсии дельта-метода:\n",
    "$$\n",
    "\\hat{\\mathbf{Var}} (\\dfrac{\\bar X}{\\bar Y} ) = \\dfrac{1}{n} \\dfrac{1}{\\bar Y^2} \\left[ \\hat\\sigma_X^2  - \\dfrac{\\bar X}{\\bar Y}\\hat\\sigma_{XY} + \\dfrac{\\bar X^2}{\\bar Y^2} \\hat\\sigma_Y^2 \\right ]\n",
    "$$\n",
    "Статистика эксперимента будет:\n",
    "\n",
    "$$\\dfrac{\\dfrac{\\bar X_t}{\\bar Y_t} - \\dfrac{\\bar X_c}{\\bar Y_c}}{\\sqrt{\\hat{\\mathbf{Var}} (\\dfrac{\\bar X_t}{\\bar Y_t})  + \\hat{\\mathbf{Var}} (\\dfrac{\\bar X_c}{\\bar Y_c}) }}$$"
   ]
  },
  {
   "cell_type": "code",
   "execution_count": 27,
   "id": "da504d42",
   "metadata": {},
   "outputs": [],
   "source": [
    "def safe_divide(x, y):\n",
    "    \"\"\"\n",
    "    Безопасное деление: без падения при делении на ноль\n",
    "    \"\"\"\n",
    "    try:\n",
    "        return x / y\n",
    "    except ZeroDivisionError:\n",
    "        return np.nan\n",
    "\n",
    "def delta_var(numerator, denominator):\n",
    "    \"\"\"\n",
    "    Функция для расчета дисперсии дельта-методом, numerator - вектор числитель, denominator - вектор знаменатель\n",
    "    \"\"\"\n",
    "    x = numerator\n",
    "    y = denominator\n",
    "    n = len(x)\n",
    "    mu_x = np.mean(x)\n",
    "    mu_y = np.mean(y)\n",
    "    var_x = np.var(x, ddof=1)\n",
    "    var_y = np.var(y, ddof=1)\n",
    "    cov_xy = np.cov(x, y, ddof=1)[0][1]    \n",
    "    delta_var = (\n",
    "            safe_divide(\n",
    "                    safe_divide(var_x, mu_y**2) \n",
    "                    - 2 * cov_xy * safe_divide(mu_x, mu_y**3) \n",
    "                    + var_y * safe_divide(mu_x**2, mu_y**4)\n",
    "                    , n\n",
    "            )\n",
    "    )\n",
    "    return delta_var\n"
   ]
  },
  {
   "cell_type": "markdown",
   "id": "13a513af",
   "metadata": {},
   "source": [
    "Посчитаем дельта-методом дисперсию для теста и контроля, а затем и стандартную ошибку эксперимента:"
   ]
  },
  {
   "cell_type": "code",
   "execution_count": 28,
   "id": "bb177bb3",
   "metadata": {},
   "outputs": [
    {
     "name": "stdout",
     "output_type": "stream",
     "text": [
      "Дисперсия теста    - 2.1727173707916947 \n",
      "Дисперсия контроля - 0.7142278796886403 \n",
      "Стандартная ошибка - 1.6991013067149159\n"
     ]
    }
   ],
   "source": [
    "test_var = delta_var(x_num, x_denom)\n",
    "control_var = delta_var(y_num, y_denom)\n",
    "sigma = np.sqrt(test_var + control_var)\n",
    "print(f'Дисперсия теста    - {test_var} \\nДисперсия контроля - {control_var} \\nСтандартная ошибка - {sigma}')"
   ]
  },
  {
   "cell_type": "code",
   "execution_count": 29,
   "id": "f3cd912e",
   "metadata": {},
   "outputs": [
    {
     "name": "stdout",
     "output_type": "stream",
     "text": [
      "Глобальное среднее теста     - 704.2059474502006\n",
      "Глобальное среднее контроля  - 700.2234717185278\n",
      "Разница между этими средними -   3.982475731672821\n"
     ]
    }
   ],
   "source": [
    "delta_estimator = safe_divide(np.sum(x_num), np.sum(x_denom)) - safe_divide(np.sum(y_num), np.sum(y_denom))\n",
    "print(\n",
    "        f'Глобальное среднее теста     - {safe_divide(np.sum(x_num), np.sum(x_denom))}\\n'\\\n",
    "        f'Глобальное среднее контроля  - {safe_divide(np.sum(y_num), np.sum(y_denom))}\\n'\\\n",
    "        f'Разница между этими средними -   {delta_estimator}'\n",
    ")"
   ]
  },
  {
   "cell_type": "markdown",
   "id": "16a7094e",
   "metadata": {},
   "source": [
    "Посчитаем статистику t-теста и p-value для нашего эксперимента:"
   ]
  },
  {
   "cell_type": "code",
   "execution_count": 44,
   "id": "24acba2b",
   "metadata": {},
   "outputs": [
    {
     "name": "stdout",
     "output_type": "stream",
     "text": [
      "p-value для дельта-метода - 0.01908571860834965\n"
     ]
    }
   ],
   "source": [
    "tt = safe_divide(delta_estimator, sigma)\n",
    "p_value = 2 * sps.t.sf(np.abs(tt), n + m - 2)\n",
    "print(f'p-value для дельта-метода - {p_value}')"
   ]
  },
  {
   "cell_type": "code",
   "execution_count": null,
   "id": "2a812742",
   "metadata": {},
   "outputs": [],
   "source": []
  },
  {
   "cell_type": "markdown",
   "id": "5f28db40",
   "metadata": {},
   "source": [
    "## Линеаризация"
   ]
  },
  {
   "cell_type": "markdown",
   "id": "481a9fa4",
   "metadata": {},
   "source": [
    "Перейдем к другой метрике L. Воспользуемся формулой для модифицированной линеаризации:\n",
    "$$L(u) = \\dfrac{\\bar X}{\\bar Y} + \\dfrac{1}{\\bar Y} X(u) - \\dfrac{\\bar X}{\\bar Y^2} Y(u) = R +  \\dfrac{1}{\\bar Y}(X(u) - R Y(u))$$"
   ]
  },
  {
   "cell_type": "code",
   "execution_count": null,
   "id": "9116103b",
   "metadata": {},
   "outputs": [],
   "source": [
    "def linearization_modified(x_num, x_denom, y_num, y_denom):\n",
    "    \"\"\"\n",
    "    Функция для расчета методом линеаризации\n",
    "    \"\"\"\n",
    "    x_num_bar = np.mean(x_num)\n",
    "    y_num_bar = np.mean(y_num)\n",
    "    x_denom_bar = np.mean(x_denom)\n",
    "    y_denom_bar = np.mean(y_denom)\n",
    "    x_estimator = safe_divide(x_num_bar, x_denom_bar)\n",
    "    y_estimator = safe_divide(y_num_bar, y_denom_bar)\n",
    "    x_linear = x_estimator  + safe_divide(1, x_denom_bar)*(np.array(x_num) - x_estimator*np.array(x_denom))\n",
    "    y_linear = y_estimator  + safe_divide(1, y_denom_bar)*(np.array(y_num) - y_estimator*np.array(y_denom))\n",
    "    t_stat, p_value = sps.ttest_ind(x_linear, y_linear, equal_var=False)\n",
    "    return t_stat, p_value"
   ]
  },
  {
   "cell_type": "code",
   "execution_count": 43,
   "id": "8a9a75e1",
   "metadata": {},
   "outputs": [
    {
     "name": "stdout",
     "output_type": "stream",
     "text": [
      "p-value для линеаризации - 0.019087054199213756\n"
     ]
    }
   ],
   "source": [
    "_, p_value = linearization_modified(x_num, x_denom, y_num, y_denom)\n",
    "print(f'p-value для линеаризации - {p_value}')"
   ]
  },
  {
   "cell_type": "code",
   "execution_count": null,
   "id": "9bd6452f",
   "metadata": {},
   "outputs": [],
   "source": []
  },
  {
   "cell_type": "markdown",
   "id": "4b65426d",
   "metadata": {},
   "source": [
    "p-value для обоих методов показали схожие результаты около 0.019.  \n",
    "Он ниже уровня принятого уровня значимости, а значит нам надо *отвергнуть* нулевую гипотезу."
   ]
  },
  {
   "cell_type": "markdown",
   "id": "a5fedc55",
   "metadata": {},
   "source": []
  },
  {
   "cell_type": "code",
   "execution_count": null,
   "id": "dc5ce7f9",
   "metadata": {},
   "outputs": [],
   "source": []
  }
 ],
 "metadata": {
  "kernelspec": {
   "display_name": "base",
   "language": "python",
   "name": "python3"
  },
  "language_info": {
   "codemirror_mode": {
    "name": "ipython",
    "version": 3
   },
   "file_extension": ".py",
   "mimetype": "text/x-python",
   "name": "python",
   "nbconvert_exporter": "python",
   "pygments_lexer": "ipython3",
   "version": "3.12.7"
  }
 },
 "nbformat": 4,
 "nbformat_minor": 5
}
